{
 "cells": [
  {
   "cell_type": "code",
   "execution_count": 1,
   "metadata": {},
   "outputs": [
    {
     "data": {
      "text/plain": [
       "'/home/psenin/git/saxpy'"
      ]
     },
     "execution_count": 1,
     "metadata": {},
     "output_type": "execute_result"
    }
   ],
   "source": [
    "import os \n",
    "os.chdir(\"/home/psenin/git/saxpy\")\n",
    "#os.chdir('C:/Users/ng6e164/PycharmProjects/saxpy')\n",
    "os.getcwd()"
   ]
  },
  {
   "cell_type": "code",
   "execution_count": 2,
   "metadata": {},
   "outputs": [],
   "source": [
    "import numpy as np\n",
    "from saxpy.sax import sax_via_window\n",
    "from saxpy.saxvsm import series_to_wordbag\n",
    "from saxpy.saxvsm import manyseries_to_wordbag\n",
    "from saxpy.saxvsm import bags_to_tfidf"
   ]
  },
  {
   "cell_type": "code",
   "execution_count": 3,
   "metadata": {},
   "outputs": [
    {
     "data": {
      "text/plain": [
       "defaultdict(list,\n",
       "            {'aac': [4, 10, 11, 30, 35],\n",
       "             'abc': [12, 14, 36, 44],\n",
       "             'acb': [5, 16, 21, 37, 43],\n",
       "             'acc': [13, 52, 53],\n",
       "             'bac': [3, 19, 34, 45, 51],\n",
       "             'bba': [31],\n",
       "             'bbb': [15, 18, 20, 22, 25, 26, 27, 28, 29, 41, 42, 46],\n",
       "             'bbc': [2],\n",
       "             'bca': [6, 17, 32, 38, 47, 48],\n",
       "             'caa': [8, 23, 24, 40],\n",
       "             'cab': [9, 50],\n",
       "             'cba': [7, 39, 49],\n",
       "             'cbb': [33],\n",
       "             'cca': [0, 1]})"
      ]
     },
     "execution_count": 3,
     "metadata": {},
     "output_type": "execute_result"
    }
   ],
   "source": [
    "dat = np.array([0., 0., 0., 0., 0., -0.270340178359072, -0.367828308500142,\n",
    "                0.666980581124872, 1.87088147328446, 2.14548907684624,\n",
    "                -0.480859313143032, -0.72911654245842, -0.490308602315934,\n",
    "                -0.66152028906509, -0.221049033806403, 0.367003418871239,\n",
    "                0.631073992586373, 0.0487728723414486, 0.762655178750436,\n",
    "                0.78574757843331, 0.338239686422963, 0.784206454089066,\n",
    "                -2.14265084073625, 2.11325193044223, 0.186018356196443,\n",
    "                0., 0., 0., 0., 0., 0., 0., 0., 0., 0., 0.519132472499234,\n",
    "                -2.604783141655, -0.244519550114012, -1.6570790528784,\n",
    "                3.34184602886343, 2.10361226260999, 1.9796808733979,\n",
    "                -0.822247322003058, 1.06850578033292, -0.678811824405992,\n",
    "                0.804225748913681, 0.57363964388698, 0.437113583759113,\n",
    "                0.437208643628268, 0.989892093383503, 1.76545983424176,\n",
    "                0.119483882364649, -0.222311941138971, -0.74669456611669,\n",
    "                -0.0663660879732063, 0., 0., 0., 0., 0.,])\n",
    "sax1 = sax_via_window(dat, 6, 3, 3, \"none\", 0.01)\n",
    "sax1"
   ]
  },
  {
   "cell_type": "code",
   "execution_count": 4,
   "metadata": {},
   "outputs": [
    {
     "data": {
      "text/plain": [
       "{'aac': 5,\n",
       " 'abc': 4,\n",
       " 'acb': 5,\n",
       " 'acc': 3,\n",
       " 'bac': 5,\n",
       " 'bba': 1,\n",
       " 'bbb': 12,\n",
       " 'bbc': 1,\n",
       " 'bca': 6,\n",
       " 'caa': 4,\n",
       " 'cab': 2,\n",
       " 'cba': 3,\n",
       " 'cbb': 1,\n",
       " 'cca': 2}"
      ]
     },
     "execution_count": 4,
     "metadata": {},
     "output_type": "execute_result"
    }
   ],
   "source": [
    "f1 = series_to_wordbag(dat, 6, 3, 3, \"none\", 0.01)\n",
    "f1"
   ]
  },
  {
   "cell_type": "code",
   "execution_count": 5,
   "metadata": {},
   "outputs": [
    {
     "data": {
      "text/plain": [
       "{'aac': 10,\n",
       " 'abc': 8,\n",
       " 'acb': 10,\n",
       " 'acc': 6,\n",
       " 'bac': 10,\n",
       " 'bba': 2,\n",
       " 'bbb': 24,\n",
       " 'bbc': 2,\n",
       " 'bca': 12,\n",
       " 'caa': 8,\n",
       " 'cab': 4,\n",
       " 'cba': 6,\n",
       " 'cbb': 2,\n",
       " 'cca': 4}"
      ]
     },
     "execution_count": 5,
     "metadata": {},
     "output_type": "execute_result"
    }
   ],
   "source": [
    "m = np.matrix([dat,dat])\n",
    "m.shape\n",
    "f2 = manyseries_to_wordbag(m, 6, 3, 3, \"none\", 0.01)\n",
    "f2"
   ]
  },
  {
   "cell_type": "code",
   "execution_count": 6,
   "metadata": {},
   "outputs": [
    {
     "data": {
      "text/plain": [
       "\"{'bag2': {'another': 2, 'example': 3, 'is': 1, 'this': 10}, 'bag1': {'a': 2, 'sample': 1, 'is': 1, 'this': 10}}\""
      ]
     },
     "execution_count": 6,
     "metadata": {},
     "output_type": "execute_result"
    }
   ],
   "source": [
    "bag1 = { \"this\": 10, \"is\": 1, \"a\": 2, \"sample\": 1}\n",
    "bag2 = { \"this\": 10, \"is\": 1, \"another\": 2, \"example\": 3}\n",
    "bags = {\"bag1\":bag1, \"bag2\":bag2}\n",
    "str(bags)"
   ]
  },
  {
   "cell_type": "code",
   "execution_count": 7,
   "metadata": {},
   "outputs": [
    {
     "data": {
      "text/plain": [
       "['bag2', 'bag1']"
      ]
     },
     "execution_count": 7,
     "metadata": {},
     "output_type": "execute_result"
    }
   ],
   "source": [
    "[*bags.copy()]"
   ]
  },
  {
   "cell_type": "code",
   "execution_count": 8,
   "metadata": {},
   "outputs": [
    {
     "data": {
      "text/plain": [
       "{'classes': ['bag2', 'bag1'],\n",
       " 'vectors': {'a': [0.0, 0.761500010418809],\n",
       "  'another': [0.761500010418809, 0.0],\n",
       "  'example': [0.9609060278364028, 0.0],\n",
       "  'sample': [0.0, 0.4804530139182014]}}"
      ]
     },
     "execution_count": 8,
     "metadata": {},
     "output_type": "execute_result"
    }
   ],
   "source": [
    "res = bags_to_tfidf(bags)\n",
    "res"
   ]
  },
  {
   "cell_type": "code",
   "execution_count": 9,
   "metadata": {},
   "outputs": [
    {
     "data": {
      "text/plain": [
       "{'a': [0.0, 0.761500010418809],\n",
       " 'another': [0.761500010418809, 0.0],\n",
       " 'example': [0.9609060278364028, 0.0],\n",
       " 'sample': [0.0, 0.4804530139182014]}"
      ]
     },
     "execution_count": 9,
     "metadata": {},
     "output_type": "execute_result"
    }
   ],
   "source": [
    "res[\"vectors\"]"
   ]
  },
  {
   "cell_type": "code",
   "execution_count": 10,
   "metadata": {},
   "outputs": [],
   "source": [
    "import re\n",
    "\n",
    "def read_data_file(fname):\n",
    "    \n",
    "    data = []\n",
    "    \n",
    "    with open(fname, 'r') as fp:\n",
    "        read_lines = fp.readlines()\n",
    "        for line in read_lines:\n",
    "            tokens = re.split(\"\\\\s+\", line.strip())\n",
    "            data_line = []\n",
    "            for token in tokens:\n",
    "                data_line.append(float(token))\n",
    "            class_label = data_line.pop(0)\n",
    "            data.append((class_label, data_line))\n",
    "        \n",
    "    res = {}\n",
    "    for key, arr in data:\n",
    "        key = str(int(key))\n",
    "        if key in res.keys():\n",
    "            res[key].append(arr)\n",
    "        else:\n",
    "            dat = [arr]\n",
    "            res[key] = dat\n",
    "    \n",
    "    return res\n",
    "            \n",
    "dd = read_data_file('resources/data/cbf/CBF_TRAIN')"
   ]
  },
  {
   "cell_type": "code",
   "execution_count": 11,
   "metadata": {},
   "outputs": [
    {
     "name": "stdout",
     "output_type": "stream",
     "text": [
      "2\n",
      "1\n",
      "3\n"
     ]
    }
   ],
   "source": [
    "for key, arr in dd.items():\n",
    "    print(key)"
   ]
  },
  {
   "cell_type": "code",
   "execution_count": 24,
   "metadata": {},
   "outputs": [],
   "source": [
    "bag1 = manyseries_to_wordbag(dd['1'], 30, 6, 6, \"none\", 0.01)\n",
    "bag2 = manyseries_to_wordbag(dd['2'], 30, 6, 6, \"none\", 0.01)\n",
    "bag3 = manyseries_to_wordbag(dd['3'], 30, 6, 6, \"none\", 0.01)"
   ]
  },
  {
   "cell_type": "code",
   "execution_count": 25,
   "metadata": {},
   "outputs": [
    {
     "data": {
      "text/plain": [
       "['2', '1', '3']"
      ]
     },
     "execution_count": 25,
     "metadata": {},
     "output_type": "execute_result"
    }
   ],
   "source": [
    "bags = {'1' : bag1, '2' : bag2, '3' : bag3}\n",
    "[*bags.copy()]"
   ]
  },
  {
   "cell_type": "code",
   "execution_count": 26,
   "metadata": {},
   "outputs": [
    {
     "data": {
      "text/plain": [
       "['2', '1', '3']"
      ]
     },
     "execution_count": 26,
     "metadata": {},
     "output_type": "execute_result"
    }
   ],
   "source": [
    "vectors = bags_to_tfidf(bags)\n",
    "vectors['classes']"
   ]
  },
  {
   "cell_type": "code",
   "execution_count": 36,
   "metadata": {},
   "outputs": [],
   "source": [
    "import math\n",
    "\n",
    "def tfidf_to_vector(tfidf, vector_label):\n",
    "    if vector_label in tfidf['classes']:\n",
    "        idx = tfidf['classes'].index(vector_label)\n",
    "        weight_vec = {}\n",
    "        for word, weights in tfidf['vectors'].items():\n",
    "            weight_vec[word] = weights[idx]\n",
    "        return weight_vec\n",
    "    else:\n",
    "        return []\n",
    "\n",
    "def cosine_measure(weight_vec, test_bag):\n",
    "    sumxx, sumxy, sumyy = 0, 0, 0\n",
    "    for word in set([*weight_vec.copy()]).union([*test_bag.copy()]):\n",
    "        x, y = 0, 0\n",
    "        if word in weight_vec.keys():\n",
    "            x = weight_vec[word]\n",
    "        if word in test_bag.keys():\n",
    "            y = test_bag[word]\n",
    "        sumxx += x*x\n",
    "        sumyy += y*y\n",
    "        sumxy += x*y\n",
    "    return sumxy/math.sqrt(sumxx*sumyy)\n",
    "    \n",
    "def cosine_similarity(tfidf, test_bag):\n",
    "    res = {}\n",
    "    for cls in tfidf['classes']:\n",
    "        res[cls] = 1. - cosine_measure( tfidf_to_vector(tfidf, cls), test_bag)\n",
    "\n",
    "    return res\n",
    "\n",
    "def class_for_bag(similarity_dict):\n",
    "    #do i need to take care about equal values?\n",
    "    return min(similarity_dict, key=lambda x: similarity_dict[x])"
   ]
  },
  {
   "cell_type": "code",
   "execution_count": null,
   "metadata": {},
   "outputs": [],
   "source": []
  },
  {
   "cell_type": "code",
   "execution_count": null,
   "metadata": {},
   "outputs": [],
   "source": []
  },
  {
   "cell_type": "code",
   "execution_count": 37,
   "metadata": {},
   "outputs": [
    {
     "name": "stdout",
     "output_type": "stream",
     "text": [
      "0.8215838362577491 ;  0.1784161637422509\n"
     ]
    }
   ],
   "source": [
    "a = [2, 0, 1, 1, 0, 2, 1, 1]\n",
    "b = [2, 1, 1, 0, 1, 1, 1, 1]\n",
    "\n",
    "sumxx, sumxy, sumyy = 0, 0, 0\n",
    "for i in range(0,8):\n",
    "    x, y = 0, 0\n",
    "    x = a[i]\n",
    "    y = b[i]\n",
    "    sumxx += x*x\n",
    "    sumyy += y*y\n",
    "    sumxy += x*y\n",
    "\n",
    "cs = sumxy/math.sqrt(sumxx*sumyy)\n",
    "print(cs, \"; \", str(1-cs))\n",
    "\n",
    "#0.822      "
   ]
  },
  {
   "cell_type": "code",
   "execution_count": null,
   "metadata": {},
   "outputs": [],
   "source": []
  },
  {
   "cell_type": "code",
   "execution_count": 38,
   "metadata": {},
   "outputs": [],
   "source": [
    "dt = read_data_file('resources/data/cbf/CBF_TEST')"
   ]
  },
  {
   "cell_type": "code",
   "execution_count": 39,
   "metadata": {},
   "outputs": [
    {
     "data": {
      "image/png": "[encoded data removed]",
      "text/plain": [
       "<Figure size 432x288 with 1 Axes>"
      ]
     },
     "metadata": {},
     "output_type": "display_data"
    }
   ],
   "source": [
    "import matplotlib.pyplot as plt\n",
    "import datetime\n",
    "import numpy as np\n",
    "\n",
    "series = dt['1'][6]\n",
    "x = np.arange(0, len(series))\n",
    "y = np.asarray(series)\n",
    "\n",
    "plt.plot(x,y)\n",
    "plt.show()"
   ]
  },
  {
   "cell_type": "code",
   "execution_count": 40,
   "metadata": {},
   "outputs": [],
   "source": [
    "test_bag = series_to_wordbag(series, 30, 6, 6, \"exact\", 0.01)\n",
    "#test_bag"
   ]
  },
  {
   "cell_type": "code",
   "execution_count": 41,
   "metadata": {},
   "outputs": [
    {
     "data": {
      "text/plain": [
       "{'1': 0.8073717951142745, '2': 0.9142667311197143, '3': 0.9590228930542796}"
      ]
     },
     "execution_count": 41,
     "metadata": {},
     "output_type": "execute_result"
    }
   ],
   "source": [
    "res = cosine_similarity(vectors, test_bag)\n",
    "res"
   ]
  },
  {
   "cell_type": "code",
   "execution_count": 42,
   "metadata": {},
   "outputs": [
    {
     "data": {
      "text/plain": [
       "'1'"
      ]
     },
     "execution_count": 42,
     "metadata": {},
     "output_type": "execute_result"
    }
   ],
   "source": [
    "class_for_bag(res)"
   ]
  },
  {
   "cell_type": "code",
   "execution_count": 53,
   "metadata": {},
   "outputs": [
    {
     "name": "stdout",
     "output_type": "stream",
     "text": [
      "2\n",
      "1\n",
      " misclassified 72 as 2 {'2': 0.8989257549765389, '3': 0.9426598044037542, '1': 0.9272114168380257}\n",
      " misclassified 91 as 2 {'2': 0.8854165617091055, '3': 0.9576460216919762, '1': 0.89152363720531}\n",
      " misclassified 135 as 2 {'2': 0.89323096825444, '3': 0.959906510306757, '1': 0.8942768618762522}\n",
      " misclassified 256 as 2 {'2': 0.9148941582128944, '3': 0.9461280335527645, '1': 0.9292332510045271}\n",
      "3\n",
      " misclassified 223 as 1 {'2': 0.9829707843618003, '3': 0.8836598869169207, '1': 0.8605901312706783}\n"
     ]
    }
   ],
   "source": [
    "for cls in [*dt.copy()]:\n",
    "    print(cls)\n",
    "    i = 0\n",
    "    for s in dt[cls]:\n",
    "        sim = cosine_similarity(vectors, \n",
    "                                series_to_wordbag(s, 30, 6, 6, \"exact\", 0.01))\n",
    "        res = class_for_bag(sim)\n",
    "        if res != cls:\n",
    "            print(\" misclassified\", i, \"as\", res, sim)\n",
    "        i = i + 1\n",
    "        "
   ]
  },
  {
   "cell_type": "code",
   "execution_count": 46,
   "metadata": {},
   "outputs": [
    {
     "data": {
      "image/png": "[encoded data removed]",
      "text/plain": [
       "<Figure size 432x288 with 1 Axes>"
      ]
     },
     "metadata": {},
     "output_type": "display_data"
    }
   ],
   "source": [
    "series = dt['1'][256]\n",
    "x = np.arange(0, len(series))\n",
    "y = np.asarray(series)\n",
    "plt.plot(x,y)\n",
    "plt.show()"
   ]
  },
  {
   "cell_type": "code",
   "execution_count": 51,
   "metadata": {},
   "outputs": [
    {
     "data": {
      "image/png": "[encoded data removed]",
      "text/plain": [
       "<Figure size 432x288 with 1 Axes>"
      ]
     },
     "metadata": {},
     "output_type": "display_data"
    }
   ],
   "source": [
    "series = dt['3'][223]\n",
    "x = np.arange(0, len(series))\n",
    "y = np.asarray(series)\n",
    "plt.plot(x,y)\n",
    "plt.show()"
   ]
  },
  {
   "cell_type": "code",
   "execution_count": null,
   "metadata": {},
   "outputs": [],
   "source": []
  },
  {
   "cell_type": "code",
   "execution_count": null,
   "metadata": {},
   "outputs": [],
   "source": []
  },
  {
   "cell_type": "code",
   "execution_count": null,
   "metadata": {},
   "outputs": [],
   "source": []
  },
  {
   "cell_type": "code",
   "execution_count": null,
   "metadata": {},
   "outputs": [],
   "source": []
  },
  {
   "cell_type": "code",
   "execution_count": null,
   "metadata": {},
   "outputs": [],
   "source": [
    "series = dd['3'][4]\n",
    "x = np.arange(0, len(series))\n",
    "y = np.asarray(series)\n",
    "\n",
    "plt.plot(x,y)\n",
    "plt.show()"
   ]
  },
  {
   "cell_type": "code",
   "execution_count": null,
   "metadata": {},
   "outputs": [],
   "source": []
  },
  {
   "cell_type": "code",
   "execution_count": null,
   "metadata": {},
   "outputs": [],
   "source": []
  },
  {
   "cell_type": "code",
   "execution_count": null,
   "metadata": {},
   "outputs": [],
   "source": []
  },
  {
   "cell_type": "code",
   "execution_count": null,
   "metadata": {},
   "outputs": [],
   "source": []
  },
  {
   "cell_type": "code",
   "execution_count": null,
   "metadata": {},
   "outputs": [],
   "source": [
    "from numpy import dot\n",
    "from numpy.linalg import norm\n",
    "\n",
    "\n",
    "def cosine_similarity(a, b):\n",
    "    \"compute cosine similarity of v1 to v2: (v1 dot v2)/{||v1||*||v2||)\"\n",
    "    return dot(a, b)/(norm(a)*norm(b))\n",
    "\n",
    "v1,v2 = [3, 45, 7, 2], [2, 54, 13, 15]\n",
    "print(v1, v2, cosine_similarity(v1,v2))"
   ]
  }
 ],
 "metadata": {
  "kernelspec": {
   "display_name": "Python 3",
   "language": "python",
   "name": "python3"
  },
  "language_info": {
   "codemirror_mode": {
    "name": "ipython",
    "version": 3
   },
   "file_extension": ".py",
   "mimetype": "text/x-python",
   "name": "python",
   "nbconvert_exporter": "python",
   "pygments_lexer": "ipython3",
   "version": "3.5.5"
  }
 },
 "nbformat": 4,
 "nbformat_minor": 2
}
