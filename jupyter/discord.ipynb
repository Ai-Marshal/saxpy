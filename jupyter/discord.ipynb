{
 "cells": [
  {
   "cell_type": "code",
   "execution_count": 1,
   "metadata": {},
   "outputs": [
    {
     "data": {
      "text/plain": [
       "'/home/psenin/git/saxpy/jupyter'"
      ]
     },
     "execution_count": 1,
     "metadata": {},
     "output_type": "execute_result"
    }
   ],
   "source": [
    "import os \n",
    "os.getcwd()"
   ]
  },
  {
   "cell_type": "code",
   "execution_count": 2,
   "metadata": {},
   "outputs": [],
   "source": [
    "os.chdir(\"/home/psenin/git/saxpy\")\n",
    "import numpy as np\n",
    "from saxpy.znorm import znorm\n",
    "from saxpy.discord import find_best_discord_brute_force\n",
    "from saxpy.discord import find_best_discord_brute_force2"
   ]
  },
  {
   "cell_type": "code",
   "execution_count": 3,
   "metadata": {
    "collapsed": true
   },
   "outputs": [],
   "source": [
    "from numpy import genfromtxt\n",
    "dd = genfromtxt(\"data/ecg0606_1.csv\", delimiter=',')    "
   ]
  },
  {
   "cell_type": "code",
   "execution_count": null,
   "metadata": {},
   "outputs": [],
   "source": [
    "s = dd[0:600]\n",
    "import matplotlib.pyplot as plt\n",
    "plt.plot(s)\n",
    "plt.show()"
   ]
  },
  {
   "cell_type": "code",
   "execution_count": null,
   "metadata": {},
   "outputs": [],
   "source": [
    "import matplotlib.pyplot as plt\n",
    "plt.plot(dd)\n",
    "plt.show()"
   ]
  },
  {
   "cell_type": "code",
   "execution_count": null,
   "metadata": {},
   "outputs": [],
   "source": [
    "discord = find_best_discord_brute_force(dd, 100)\n",
    "discord"
   ]
  },
  {
   "cell_type": "code",
   "execution_count": 4,
   "metadata": {},
   "outputs": [
    {
     "name": "stdout",
     "output_type": "stream",
     "text": [
      "outer unvisited: 2199\n",
      "outer unvisited: 2198\n",
      "outer unvisited: 2197\n",
      "outer unvisited: 2196\n",
      "outer unvisited: 2195\n",
      "outer unvisited: 2194\n",
      "outer unvisited: 2193\n",
      "outer unvisited: 2192\n",
      "outer unvisited: 2191\n",
      "outer unvisited: 2190\n",
      "outer unvisited: 2189\n",
      "outer unvisited: 2188\n",
      "outer unvisited: 2187\n",
      "outer unvisited: 2186\n",
      "outer unvisited: 2185\n",
      "outer unvisited: 2184\n",
      "outer unvisited: 2183\n",
      "outer unvisited: 2182\n",
      "outer unvisited: 2181\n",
      "outer unvisited: 2180\n",
      "outer unvisited: 2179\n",
      "outer unvisited: 2178\n",
      "outer unvisited: 2177\n",
      "outer unvisited: 2176\n",
      "outer unvisited: 2175\n",
      "outer unvisited: 2174\n",
      "outer unvisited: 2173\n",
      "outer unvisited: 2172\n",
      "outer unvisited: 2171\n",
      "outer unvisited: 2170\n",
      "outer unvisited: 2169\n",
      "outer unvisited: 2168\n",
      "outer unvisited: 2167\n",
      "outer unvisited: 2166\n",
      "outer unvisited: 2165\n",
      "outer unvisited: 2164\n",
      "outer unvisited: 2163\n",
      "outer unvisited: 2162\n",
      "outer unvisited: 2161\n",
      "outer unvisited: 2160\n",
      "outer unvisited: 2159\n",
      "outer unvisited: 2158\n",
      "outer unvisited: 2157\n",
      "outer unvisited: 2156\n",
      "outer unvisited: 2155\n",
      "outer unvisited: 2154\n",
      "outer unvisited: 2153\n",
      "outer unvisited: 2152\n",
      "outer unvisited: 2151\n",
      "outer unvisited: 2150\n",
      "outer unvisited: 2149\n",
      "outer unvisited: 2148\n",
      "outer unvisited: 2147\n",
      "outer unvisited: 2146\n",
      "outer unvisited: 2145\n",
      "outer unvisited: 2144\n",
      "outer unvisited: 2143\n",
      "outer unvisited: 2142\n",
      "outer unvisited: 2141\n",
      "outer unvisited: 2140\n",
      "outer unvisited: 2139\n",
      "outer unvisited: 2138\n",
      "outer unvisited: 2137\n",
      "outer unvisited: 2136\n",
      "outer unvisited: 2135\n",
      "outer unvisited: 2134\n",
      "outer unvisited: 2133\n"
     ]
    },
    {
     "ename": "KeyboardInterrupt",
     "evalue": "",
     "output_type": "error",
     "traceback": [
      "\u001b[0;31m---------------------------------------------------------------------------\u001b[0m",
      "\u001b[0;31mKeyboardInterrupt\u001b[0m                         Traceback (most recent call last)",
      "\u001b[0;32m<ipython-input-4-e62c5597d3e1>\u001b[0m in \u001b[0;36m<module>\u001b[0;34m()\u001b[0m\n\u001b[0;32m----> 1\u001b[0;31m \u001b[0mdiscord\u001b[0m \u001b[0;34m=\u001b[0m \u001b[0mfind_best_discord_brute_force2\u001b[0m\u001b[0;34m(\u001b[0m\u001b[0mdd\u001b[0m\u001b[0;34m,\u001b[0m \u001b[0;36m100\u001b[0m\u001b[0;34m)\u001b[0m\u001b[0;34m\u001b[0m\u001b[0m\n\u001b[0m\u001b[1;32m      2\u001b[0m \u001b[0mdiscord\u001b[0m\u001b[0;34m\u001b[0m\u001b[0m\n",
      "\u001b[0;32m~/git/saxpy/saxpy/discord.py\u001b[0m in \u001b[0;36mfind_best_discord_brute_force2\u001b[0;34m(series, win_size)\u001b[0m\n\u001b[1;32m     82\u001b[0m                     \u001b[0mnnDistance\u001b[0m \u001b[0;34m=\u001b[0m \u001b[0mdist\u001b[0m\u001b[0;34m\u001b[0m\u001b[0m\n\u001b[1;32m     83\u001b[0m \u001b[0;34m\u001b[0m\u001b[0m\n\u001b[0;32m---> 84\u001b[0;31m             \u001b[0minner_idx\u001b[0m \u001b[0;34m=\u001b[0m \u001b[0minnerRegistry\u001b[0m\u001b[0;34m.\u001b[0m\u001b[0mget_next_unvisited2\u001b[0m\u001b[0;34m(\u001b[0m\u001b[0;34m)\u001b[0m\u001b[0;34m\u001b[0m\u001b[0m\n\u001b[0m\u001b[1;32m     85\u001b[0m \u001b[0;34m\u001b[0m\u001b[0m\n\u001b[1;32m     86\u001b[0m         \u001b[0;32mif\u001b[0m \u001b[0;34m~\u001b[0m\u001b[0;34m(\u001b[0m\u001b[0mnp\u001b[0m\u001b[0;34m.\u001b[0m\u001b[0minf\u001b[0m \u001b[0;34m==\u001b[0m \u001b[0mnnDistance\u001b[0m\u001b[0;34m)\u001b[0m \u001b[0;32mand\u001b[0m \u001b[0mnnDistance\u001b[0m \u001b[0;34m>\u001b[0m \u001b[0mbest_so_far_distance\u001b[0m\u001b[0;34m:\u001b[0m\u001b[0;34m\u001b[0m\u001b[0m\n",
      "\u001b[0;32m~/git/saxpy/saxpy/visit_registry.py\u001b[0m in \u001b[0;36mget_next_unvisited2\u001b[0;34m(self)\u001b[0m\n\u001b[1;32m     45\u001b[0m             \u001b[0mj\u001b[0m \u001b[0;34m=\u001b[0m \u001b[0;36m0\u001b[0m\u001b[0;34m\u001b[0m\u001b[0m\n\u001b[1;32m     46\u001b[0m             \u001b[0;32mfor\u001b[0m \u001b[0mi\u001b[0m \u001b[0;32min\u001b[0m \u001b[0mrange\u001b[0m\u001b[0;34m(\u001b[0m\u001b[0;36m0\u001b[0m\u001b[0;34m,\u001b[0m \u001b[0mself\u001b[0m\u001b[0;34m.\u001b[0m\u001b[0mcapacity\u001b[0m\u001b[0;34m)\u001b[0m\u001b[0;34m:\u001b[0m\u001b[0;34m\u001b[0m\u001b[0m\n\u001b[0;32m---> 47\u001b[0;31m                 \u001b[0;32mif\u001b[0m \u001b[0;36m0\u001b[0m \u001b[0;34m==\u001b[0m \u001b[0mself\u001b[0m\u001b[0;34m.\u001b[0m\u001b[0mvisit_array\u001b[0m\u001b[0;34m[\u001b[0m\u001b[0mi\u001b[0m\u001b[0;34m]\u001b[0m\u001b[0;34m:\u001b[0m\u001b[0;34m\u001b[0m\u001b[0m\n\u001b[0m\u001b[1;32m     48\u001b[0m                     \u001b[0mtmp_order\u001b[0m\u001b[0;34m[\u001b[0m\u001b[0mj\u001b[0m\u001b[0;34m]\u001b[0m \u001b[0;34m=\u001b[0m \u001b[0mi\u001b[0m\u001b[0;34m\u001b[0m\u001b[0m\n\u001b[1;32m     49\u001b[0m                     \u001b[0mj\u001b[0m \u001b[0;34m+=\u001b[0m \u001b[0;36m1\u001b[0m\u001b[0;34m\u001b[0m\u001b[0m\n",
      "\u001b[0;31mKeyboardInterrupt\u001b[0m: "
     ]
    }
   ],
   "source": [
    "discord = find_best_discord_brute_force2(dd, 100)\n",
    "discord"
   ]
  },
  {
   "cell_type": "code",
   "execution_count": null,
   "metadata": {
    "collapsed": true
   },
   "outputs": [],
   "source": []
  },
  {
   "cell_type": "code",
   "execution_count": null,
   "metadata": {
    "collapsed": true
   },
   "outputs": [],
   "source": []
  },
  {
   "cell_type": "code",
   "execution_count": null,
   "metadata": {
    "collapsed": true
   },
   "outputs": [],
   "source": []
  },
  {
   "cell_type": "code",
   "execution_count": null,
   "metadata": {
    "collapsed": true
   },
   "outputs": [],
   "source": []
  },
  {
   "cell_type": "code",
   "execution_count": null,
   "metadata": {
    "collapsed": true
   },
   "outputs": [],
   "source": []
  }
 ],
 "metadata": {
  "kernelspec": {
   "display_name": "Python 3",
   "language": "python",
   "name": "python3"
  },
  "language_info": {
   "codemirror_mode": {
    "name": "ipython",
    "version": 3
   },
   "file_extension": ".py",
   "mimetype": "text/x-python",
   "name": "python",
   "nbconvert_exporter": "python",
   "pygments_lexer": "ipython3",
   "version": "3.6.3"
  }
 },
 "nbformat": 4,
 "nbformat_minor": 2
}
