{
 "cells": [
  {
   "cell_type": "code",
   "execution_count": 1,
   "metadata": {
    "collapsed": true
   },
   "outputs": [],
   "source": [
    "import numpy as np\n",
    "\n",
    "\n",
    "def cuts_for_asize(a_size):\n",
    "    \"\"\"Generate a set of alphabet cuts for its size.\"\"\"\n",
    "    options = {\n",
    "        2: np.array([-np.inf,  0.00]),\n",
    "        3: np.array([-np.inf, -0.4307273, 0.4307273]),\n",
    "        4: np.array([-np.inf, -0.6744898, 0, 0.6744898]),\n",
    "        5: np.array([-np.inf, -0.841621233572914, -0.2533471031358,\n",
    "                    0.2533471031358, 0.841621233572914]),\n",
    "        6: np.array([-np.inf, -0.967421566101701, -0.430727299295457, 0,\n",
    "                    0.430727299295457, 0.967421566101701]),\n",
    "        7: np.array([-np.inf, -1.06757052387814, -0.565948821932863,\n",
    "                    -0.180012369792705, 0.180012369792705, 0.565948821932863,\n",
    "                    1.06757052387814]),\n",
    "        8: np.array([-np.inf, -1.15034938037601, -0.674489750196082,\n",
    "                    -0.318639363964375, 0, 0.318639363964375,\n",
    "                    0.674489750196082, 1.15034938037601]),\n",
    "        9: np.array([-np.inf, -1.22064034884735, -0.764709673786387,\n",
    "                    -0.430727299295457, -0.139710298881862, 0.139710298881862,\n",
    "                    0.430727299295457, 0.764709673786387, 1.22064034884735]),\n",
    "        10: np.array([-np.inf, -1.2815515655446, -0.841621233572914,\n",
    "                     -0.524400512708041, -0.2533471031358, 0, 0.2533471031358,\n",
    "                     0.524400512708041, 0.841621233572914, 1.2815515655446]),\n",
    "        11: np.array([-np.inf, -1.33517773611894, -0.908457868537385,\n",
    "                     -0.604585346583237, -0.348755695517045,\n",
    "                     -0.114185294321428, 0.114185294321428, 0.348755695517045,\n",
    "                     0.604585346583237, 0.908457868537385, 1.33517773611894]),\n",
    "        12: np.array([-np.inf, -1.38299412710064, -0.967421566101701,\n",
    "                     -0.674489750196082, -0.430727299295457,\n",
    "                     -0.210428394247925, 0, 0.210428394247925,\n",
    "                     0.430727299295457, 0.674489750196082, 0.967421566101701,\n",
    "                     1.38299412710064]),\n",
    "        13: np.array([-np.inf, -1.42607687227285, -1.0200762327862,\n",
    "                     -0.736315917376129, -0.502402223373355,\n",
    "                     -0.293381232121193, -0.0965586152896391,\n",
    "                     0.0965586152896394, 0.293381232121194, 0.502402223373355,\n",
    "                     0.73631591737613, 1.0200762327862, 1.42607687227285]),\n",
    "        14: np.array([-np.inf, -1.46523379268552, -1.06757052387814,\n",
    "                     -0.791638607743375, -0.565948821932863, -0.36610635680057,\n",
    "                     -0.180012369792705, 0, 0.180012369792705,\n",
    "                     0.36610635680057, 0.565948821932863, 0.791638607743375,\n",
    "                     1.06757052387814, 1.46523379268552]),\n",
    "        15: np.array([-np.inf, -1.50108594604402, -1.11077161663679,\n",
    "                     -0.841621233572914, -0.622925723210088,\n",
    "                     -0.430727299295457, -0.2533471031358, -0.0836517339071291,\n",
    "                     0.0836517339071291, 0.2533471031358, 0.430727299295457,\n",
    "                     0.622925723210088, 0.841621233572914, 1.11077161663679,\n",
    "                     1.50108594604402]),\n",
    "        16: np.array([-np.inf, -1.53412054435255, -1.15034938037601,\n",
    "                     -0.887146559018876, -0.674489750196082,\n",
    "                     -0.488776411114669, -0.318639363964375,\n",
    "                     -0.157310684610171, 0, 0.157310684610171,\n",
    "                     0.318639363964375, 0.488776411114669, 0.674489750196082,\n",
    "                     0.887146559018876, 1.15034938037601, 1.53412054435255]),\n",
    "        17: np.array([-np.inf, -1.5647264713618, -1.18683143275582,\n",
    "                     -0.928899491647271, -0.721522283982343,\n",
    "                     -0.541395085129088, -0.377391943828554,\n",
    "                     -0.223007830940367, -0.0737912738082727,\n",
    "                     0.0737912738082727, 0.223007830940367, 0.377391943828554,\n",
    "                     0.541395085129088, 0.721522283982343, 0.928899491647271,\n",
    "                     1.18683143275582, 1.5647264713618]),\n",
    "        18: np.array([-np.inf, -1.59321881802305, -1.22064034884735,\n",
    "                     -0.967421566101701, -0.764709673786387,\n",
    "                     -0.589455797849779, -0.430727299295457,\n",
    "                     -0.282216147062508, -0.139710298881862, 0,\n",
    "                     0.139710298881862, 0.282216147062508, 0.430727299295457,\n",
    "                     0.589455797849779, 0.764709673786387, 0.967421566101701,\n",
    "                     1.22064034884735, 1.59321881802305]),\n",
    "        19: np.array([-np.inf, -1.61985625863827, -1.25211952026522,\n",
    "                     -1.00314796766253, -0.8045963803603, -0.633640000779701,\n",
    "                     -0.47950565333095, -0.336038140371823, -0.199201324789267,\n",
    "                     -0.0660118123758407, 0.0660118123758406,\n",
    "                     0.199201324789267, 0.336038140371823, 0.47950565333095,\n",
    "                     0.633640000779701, 0.8045963803603, 1.00314796766253,\n",
    "                     1.25211952026522, 1.61985625863827]),\n",
    "        20: np.array([-np.inf, -1.64485362695147, -1.2815515655446,\n",
    "                     -1.03643338949379, -0.841621233572914, -0.674489750196082,\n",
    "                     -0.524400512708041, -0.385320466407568, -0.2533471031358,\n",
    "                     -0.125661346855074, 0, 0.125661346855074, 0.2533471031358,\n",
    "                     0.385320466407568, 0.524400512708041, 0.674489750196082,\n",
    "                     0.841621233572914, 1.03643338949379, 1.2815515655446,\n",
    "                     1.64485362695147]),\n",
    "    }\n",
    "\n",
    "    return options[a_size]\n"
   ]
  },
  {
   "cell_type": "code",
   "execution_count": 42,
   "metadata": {
    "collapsed": true
   },
   "outputs": [],
   "source": [
    "def znorm(series, znorm_threshold=0.01):\n",
    "    \"\"\"Znorm implementation.\"\"\"\n",
    "    sd = np.std(series)\n",
    "    if (sd < znorm_threshold):\n",
    "        return series\n",
    "    mean = np.mean(series)\n",
    "    return (series - mean) / sd\n",
    "def idx2letter(idx):\n",
    "    \"\"\"Convert a numerical index to a char.\"\"\"\n",
    "    if 0 <= idx < 20:\n",
    "        return chr(97 + idx)\n",
    "    else:\n",
    "        raise ValueError('A wrong idx value supplied.')"
   ]
  },
  {
   "cell_type": "code",
   "execution_count": 34,
   "metadata": {},
   "outputs": [],
   "source": [
    "def series2sax(series, alphabet_cuts):\n",
    "    \"\"\"Simple cnversion implementation.\"\"\"\n",
    "    series_len = len(series)\n",
    "    cuts_len = len(alphabet_cuts)\n",
    "    sax = list()\n",
    "    for i in range(0, series_len):\n",
    "        num = series[i]\n",
    "        print(\"processing \" + str(series[i]))\n",
    "        # if teh number below 0, start from the bottom, or else from the top\n",
    "        if(num >= 0):\n",
    "            print(\"taking num>0\")\n",
    "            j = cuts_len - 1\n",
    "            while ( (j > 0) and (alphabet_cuts[j] > num) ):\n",
    "                j = j - 1\n",
    "                print(str(j))\n",
    "            sax.append(idx2letter(j))\n",
    "        else:\n",
    "            print(\"taking num<0\")\n",
    "            j = 1\n",
    "            while (j < cuts_len and alphabet_cuts[j] < num):\n",
    "                j = j + 1\n",
    "                print(str(j))\n",
    "            sax.append(idx2letter(j-1))\n",
    "    return sax"
   ]
  },
  {
   "cell_type": "code",
   "execution_count": 35,
   "metadata": {},
   "outputs": [
    {
     "name": "stdout",
     "output_type": "stream",
     "text": [
      "processing -1.375\n",
      "taking num<0\n",
      "processing 0.75\n",
      "taking num>0\n",
      "processing 0.625\n",
      "taking num>0\n"
     ]
    },
    {
     "data": {
      "text/plain": [
       "['a', 'c', 'c']"
      ]
     },
     "execution_count": 35,
     "metadata": {},
     "output_type": "execute_result"
    }
   ],
   "source": [
    "series2sax(np.array([-1.375, 0.75, 0.625]), cuts_for_asize(3))"
   ]
  },
  {
   "cell_type": "code",
   "execution_count": 39,
   "metadata": {},
   "outputs": [],
   "source": [
    "dat1 = np.array([2.02, 2.33, 2.99, 6.85, 9.2, 8.8, 7.5, 6, 5.85,\n",
    "          3.85, 4.85, 3.85, 2.22, 1.45, 1.34])\n",
    "dats1_9_7 = \"bcggfddba\"\n",
    "dats1_10_11 = \"bcjkiheebb\"\n",
    "dats1_14_10 = \"bcdijjhgfeecbb\""
   ]
  },
  {
   "cell_type": "code",
   "execution_count": 43,
   "metadata": {},
   "outputs": [
    {
     "name": "stdout",
     "output_type": "stream",
     "text": [
      "processing -1.01406601999\n",
      "taking num<0\n",
      "2\n",
      "processing -0.892534911928\n",
      "taking num<0\n",
      "2\n",
      "processing -0.633791262497\n",
      "taking num<0\n",
      "2\n",
      "3\n",
      "processing 0.879467050846\n",
      "taking num>0\n",
      "8\n",
      "processing 1.80075125716\n",
      "taking num>0\n",
      "processing 1.64393692417\n",
      "taking num>0\n",
      "processing 1.13429034195\n",
      "taking num>0\n",
      "8\n",
      "processing 0.546236593244\n",
      "taking num>0\n",
      "8\n",
      "7\n",
      "processing 0.487431218374\n",
      "taking num>0\n",
      "8\n",
      "7\n",
      "6\n",
      "processing -0.296640446571\n",
      "taking num<0\n",
      "2\n",
      "3\n",
      "4\n",
      "processing 0.0953953859015\n",
      "taking num>0\n",
      "8\n",
      "7\n",
      "6\n",
      "5\n",
      "processing -0.296640446571\n",
      "taking num<0\n",
      "2\n",
      "3\n",
      "4\n",
      "processing -0.9356588535\n",
      "taking num<0\n",
      "2\n",
      "processing -1.2375264445\n",
      "taking num<0\n",
      "2\n",
      "processing -1.28065038608\n",
      "taking num<0\n",
      "2\n"
     ]
    },
    {
     "data": {
      "text/plain": [
       "['b', 'b', 'c', 'i', 'j', 'j', 'i', 'h', 'g', 'd', 'f', 'd', 'b', 'b', 'b']"
      ]
     },
     "execution_count": 43,
     "metadata": {},
     "output_type": "execute_result"
    }
   ],
   "source": [
    "series2sax(znorm(dat1), cuts_for_asize(10))"
   ]
  },
  {
   "cell_type": "code",
   "execution_count": null,
   "metadata": {
    "collapsed": true
   },
   "outputs": [],
   "source": [
    "dats1_9_7 <- \"bcggfddba\"\n",
    "dats1_10_11 <- \"bcjkiheebb\"\n",
    "dats1_14_10 <- \"bcdijjhgfeecbb\"\n",
    "\n",
    "test_that(\"points to letters, i.e. SAX, CPP #2\", {\n",
    "  str1_10_11 <- paste( matrix(unlist(sax_by_chunking(dat1, 10, 11, 0.01)),\n",
    "                             nrow = 10, byrow = T)[,1], collapse = \"\")\n",
    "  str1_14_10 <- paste( matrix(unlist(sax_by_chunking(dat1, 14, 10, 0.01)),\n",
    "                             nrow = 14, byrow = T)[,1], collapse = \"\")\n",
    "  str1_9_7 <- paste( matrix(unlist(sax_by_chunking(dat1, 9, 7, 0.01)),\n",
    "                             nrow = 9, byrow = T)[,1], collapse = \"\")\n",
    "  expect_equal(str1_10_11, dats1_10_11)\n",
    "  expect_equal(str1_14_10, dats1_14_10)\n",
    "  expect_equal(str1_9_7, dats1_9_7)\n",
    "})"
   ]
  },
  {
   "cell_type": "code",
   "execution_count": null,
   "metadata": {
    "collapsed": true
   },
   "outputs": [],
   "source": []
  }
 ],
 "metadata": {
  "kernelspec": {
   "display_name": "Python 3",
   "language": "python",
   "name": "python3"
  },
  "language_info": {
   "codemirror_mode": {
    "name": "ipython",
    "version": 3
   },
   "file_extension": ".py",
   "mimetype": "text/x-python",
   "name": "python",
   "nbconvert_exporter": "python",
   "pygments_lexer": "ipython3",
   "version": "3.6.3"
  }
 },
 "nbformat": 4,
 "nbformat_minor": 2
}
