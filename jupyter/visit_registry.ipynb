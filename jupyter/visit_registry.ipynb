{
 "cells": [
  {
   "cell_type": "code",
   "execution_count": 6,
   "metadata": {},
   "outputs": [
    {
     "data": {
      "text/plain": [
       "'/home/psenin/git/saxpy/jupyter'"
      ]
     },
     "execution_count": 6,
     "metadata": {},
     "output_type": "execute_result"
    }
   ],
   "source": [
    "import os \n",
    "os.getcwd()"
   ]
  },
  {
   "cell_type": "code",
   "execution_count": 7,
   "metadata": {
    "collapsed": true
   },
   "outputs": [],
   "source": [
    "os.chdir(\"/home/psenin/git/saxpy\")\n",
    "import numpy as np\n",
    "from saxpy.strfunc import idx2letter \n",
    "from saxpy.znorm import znorm\n",
    "from saxpy.paa import paa\n",
    "from saxpy.alphabet import cuts_for_asize\n",
    "from saxpy.sax import sax_via_window\n",
    "from saxpy.visit_registry import VisitRegistry"
   ]
  },
  {
   "cell_type": "code",
   "execution_count": 8,
   "metadata": {
    "collapsed": true
   },
   "outputs": [],
   "source": [
    "import numpy as np\n",
    "class VisitRegistry:\n",
    "\n",
    "    def __init__(self, capacity):\n",
    "        self.capacity = capacity\n",
    "        self.visit_array = np.zeros(capacity, dtype=np.uint8)\n",
    "        self.unvisited_count = capacity\n",
    "\n",
    "    def get_unvisited_count(self):\n",
    "        return self.unvisited_count\n",
    "    \n",
    "    def set_visited(self, index):\n",
    "        if 0 == self.visit_array[index]:\n",
    "            self.visit_array[index] = 1\n",
    "            self.unvisited_count-=1\n",
    "    \n",
    "    def get_next_unvisited(self):\n",
    "        if 0 == self.unvisited_count:\n",
    "            return np.nan\n",
    "        else:\n",
    "            i = np.random.randint(0, self.capacity)\n",
    "            while 1 == self.visit_array[i]:\n",
    "                i = np.random.randint(0, self.capacity)\n",
    "            return i\n",
    "        \n",
    "    def get_next_unvisited2(self):\n",
    "        tmp_order = np.zeros(self.unvisited_count, dtype=np.uint8)\n",
    "        j = 0\n",
    "        for i in range(0, self.capacity):\n",
    "            if 0 == self.visit_array[i]:\n",
    "                tmp_order[j] = i\n",
    "                j+=1\n",
    "        np.random.shuffle(tmp_order)\n",
    "        return tmp_order[0]    "
   ]
  },
  {
   "cell_type": "code",
   "execution_count": 9,
   "metadata": {
    "collapsed": true
   },
   "outputs": [],
   "source": [
    "arr = VisitRegistry(1000000)"
   ]
  },
  {
   "cell_type": "code",
   "execution_count": 10,
   "metadata": {},
   "outputs": [
    {
     "name": "stdout",
     "output_type": "stream",
     "text": [
      "362 ns ± 178 ns per loop (mean ± std. dev. of 7 runs, 1 loop each)\n"
     ]
    }
   ],
   "source": [
    "%%timeit\n",
    "while 0 < arr.get_unvisited_count():\n",
    "    num = arr.get_next_unvisited()\n",
    "    arr.set_visited(num)"
   ]
  },
  {
   "cell_type": "code",
   "execution_count": 11,
   "metadata": {},
   "outputs": [
    {
     "name": "stdout",
     "output_type": "stream",
     "text": [
      "158 ns ± 0.665 ns per loop (mean ± std. dev. of 7 runs, 10000000 loops each)\n"
     ]
    }
   ],
   "source": [
    "%%timeit\n",
    "while 0 < arr.get_unvisited_count():\n",
    "    num = arr.get_next_unvisited2()\n",
    "    arr.set_visited(num)"
   ]
  },
  {
   "cell_type": "code",
   "execution_count": 13,
   "metadata": {},
   "outputs": [
    {
     "ename": "ModuleNotFoundError",
     "evalue": "No module named 'memprof'",
     "output_type": "error",
     "traceback": [
      "\u001b[0;31m---------------------------------------------------------------------------\u001b[0m",
      "\u001b[0;31mModuleNotFoundError\u001b[0m                       Traceback (most recent call last)",
      "\u001b[0;32m<ipython-input-13-5ff7ec82e37a>\u001b[0m in \u001b[0;36m<module>\u001b[0;34m()\u001b[0m\n\u001b[0;32m----> 1\u001b[0;31m \u001b[0;32mfrom\u001b[0m \u001b[0mmemprof\u001b[0m \u001b[0;32mimport\u001b[0m \u001b[0mmemprof\u001b[0m\u001b[0;34m\u001b[0m\u001b[0m\n\u001b[0m",
      "\u001b[0;31mModuleNotFoundError\u001b[0m: No module named 'memprof'"
     ]
    }
   ],
   "source": [
    "from memprof import memprof"
   ]
  },
  {
   "cell_type": "code",
   "execution_count": 12,
   "metadata": {},
   "outputs": [
    {
     "name": "stderr",
     "output_type": "stream",
     "text": [
      "ERROR:root:Cell magic `%%memit` not found.\n"
     ]
    }
   ],
   "source": [
    "%%memit\n",
    "while 0 < arr.get_unvisited_count():\n",
    "    num = arr.get_next_unvisited()\n",
    "    arr.set_visited(num)"
   ]
  },
  {
   "cell_type": "code",
   "execution_count": 13,
   "metadata": {},
   "outputs": [
    {
     "name": "stderr",
     "output_type": "stream",
     "text": [
      "ERROR:root:Cell magic `%%memit` not found.\n"
     ]
    }
   ],
   "source": [
    "%%memit\n",
    "while 0 < arr.get_unvisited_count():\n",
    "    num = arr.get_next_unvisited2()\n",
    "    arr.set_visited(num)"
   ]
  },
  {
   "cell_type": "code",
   "execution_count": null,
   "metadata": {
    "collapsed": true
   },
   "outputs": [],
   "source": []
  },
  {
   "cell_type": "code",
   "execution_count": null,
   "metadata": {
    "collapsed": true
   },
   "outputs": [],
   "source": []
  },
  {
   "cell_type": "code",
   "execution_count": null,
   "metadata": {
    "collapsed": true
   },
   "outputs": [],
   "source": []
  },
  {
   "cell_type": "code",
   "execution_count": null,
   "metadata": {
    "collapsed": true
   },
   "outputs": [],
   "source": []
  },
  {
   "cell_type": "code",
   "execution_count": null,
   "metadata": {
    "collapsed": true
   },
   "outputs": [],
   "source": []
  }
 ],
 "metadata": {
  "kernelspec": {
   "display_name": "Python 3",
   "language": "python",
   "name": "python3"
  },
  "language_info": {
   "codemirror_mode": {
    "name": "ipython",
    "version": 3
   },
   "file_extension": ".py",
   "mimetype": "text/x-python",
   "name": "python",
   "nbconvert_exporter": "python",
   "pygments_lexer": "ipython3",
   "version": "3.6.3"
  }
 },
 "nbformat": 4,
 "nbformat_minor": 2
}
