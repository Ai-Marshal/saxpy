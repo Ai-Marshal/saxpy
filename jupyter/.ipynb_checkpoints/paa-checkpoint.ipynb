{
 "cells": [
  {
   "cell_type": "code",
   "execution_count": 1,
   "metadata": {
    "collapsed": true
   },
   "outputs": [],
   "source": [
    "import os\n",
    "import sys\n",
    "sys.path.append(\"..\")"
   ]
  },
  {
   "cell_type": "code",
   "execution_count": 3,
   "metadata": {},
   "outputs": [
    {
     "data": {
      "text/plain": [
       "array([-0.81649658, -1.63299316, -0.81649658,  0.        ,  1.63299316,\n",
       "        0.81649658,  0.81649658,  0.        ])"
      ]
     },
     "execution_count": 3,
     "metadata": {},
     "output_type": "execute_result"
    }
   ],
   "source": [
    "from saxpy import znorm\n",
    "ts = [-1., -2., -1., 0., 2., 1., 1., 0.]\n",
    "z_thrsh = 0.001\n",
    "x_scaled = [x / 100.0 for x in ts]\n",
    "znorm.znorm(x_scaled, z_thrsh)"
   ]
  },
  {
   "cell_type": "code",
   "execution_count": 10,
   "metadata": {
    "collapsed": true
   },
   "outputs": [],
   "source": [
    "import numpy as np\n",
    "def paa(series, paa_segments):\n",
    "    \"\"\"PAA implementation.\"\"\"\n",
    "    series_len = len(series)\n",
    "\n",
    "    # check for the trivial case\n",
    "    if (series_len == paa_segments):\n",
    "        return np.copy(series)\n",
    "    else:\n",
    "        res = np.zeros(paa_segments)\n",
    "        if (series_len % paa_segments == 0):\n",
    "            inc = series_len // paa_segments\n",
    "            for i in range(0, series_len):\n",
    "                idx = i // inc\n",
    "                res[idx] = res[idx] + series[i]\n",
    "            return res / inc\n",
    "        else:\n",
    "            for i in range(0, paa_segments * series_len):\n",
    "                idx = i // series_len\n",
    "                pos = i // paa_segments\n",
    "                res[idx] = res[idx] + series[pos]\n",
    "            return res / series_len"
   ]
  },
  {
   "cell_type": "code",
   "execution_count": 11,
   "metadata": {},
   "outputs": [],
   "source": [
    "ts = np.array([1, 1, 2, 2, 3, 3])"
   ]
  },
  {
   "cell_type": "code",
   "execution_count": 12,
   "metadata": {},
   "outputs": [
    {
     "data": {
      "text/plain": [
       "array([1, 1, 2, 2, 3, 3])"
      ]
     },
     "execution_count": 12,
     "metadata": {},
     "output_type": "execute_result"
    }
   ],
   "source": [
    "paa(ts, 6)"
   ]
  },
  {
   "cell_type": "code",
   "execution_count": 13,
   "metadata": {},
   "outputs": [
    {
     "data": {
      "text/plain": [
       "array([ 1.,  2.,  3.])"
      ]
     },
     "execution_count": 13,
     "metadata": {},
     "output_type": "execute_result"
    }
   ],
   "source": [
    "paa(ts, 3)"
   ]
  },
  {
   "cell_type": "code",
   "execution_count": 14,
   "metadata": {},
   "outputs": [
    {
     "data": {
      "text/plain": [
       "array([ 0.66666667,  0.        ,  0.        ,  0.        ])"
      ]
     },
     "execution_count": 14,
     "metadata": {},
     "output_type": "execute_result"
    }
   ],
   "source": [
    "paa(ts, 4)"
   ]
  },
  {
   "cell_type": "code",
   "execution_count": null,
   "metadata": {
    "collapsed": true
   },
   "outputs": [],
   "source": []
  },
  {
   "cell_type": "code",
   "execution_count": 8,
   "metadata": {},
   "outputs": [
    {
     "data": {
      "text/plain": [
       "'/home/psenin/git/saxpy/jupyter'"
      ]
     },
     "execution_count": 8,
     "metadata": {},
     "output_type": "execute_result"
    }
   ],
   "source": [
    "os.getcwd()"
   ]
  },
  {
   "cell_type": "code",
   "execution_count": 2,
   "metadata": {},
   "outputs": [
    {
     "data": {
      "text/plain": [
       "['',\n",
       " '/home/psenin/anaconda3/lib/python36.zip',\n",
       " '/home/psenin/anaconda3/lib/python3.6',\n",
       " '/home/psenin/anaconda3/lib/python3.6/lib-dynload',\n",
       " '/home/psenin/anaconda3/lib/python3.6/site-packages',\n",
       " '/home/psenin/anaconda3/lib/python3.6/site-packages/IPython/extensions',\n",
       " '/home/psenin/.ipython',\n",
       " '..']"
      ]
     },
     "execution_count": 2,
     "metadata": {},
     "output_type": "execute_result"
    }
   ],
   "source": [
    "sys.path"
   ]
  }
 ],
 "metadata": {
  "kernelspec": {
   "display_name": "Python 3",
   "language": "python",
   "name": "python3"
  },
  "language_info": {
   "codemirror_mode": {
    "name": "ipython",
    "version": 3
   },
   "file_extension": ".py",
   "mimetype": "text/x-python",
   "name": "python",
   "nbconvert_exporter": "python",
   "pygments_lexer": "ipython3",
   "version": "3.6.3"
  }
 },
 "nbformat": 4,
 "nbformat_minor": 2
}
