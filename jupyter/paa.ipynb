{
 "cells": [
  {
   "cell_type": "code",
   "execution_count": 1,
   "metadata": {
    "collapsed": true
   },
   "outputs": [],
   "source": [
    "import os\n",
    "import sys\n",
    "sys.path.append(\"..\")"
   ]
  },
  {
   "cell_type": "code",
   "execution_count": 23,
   "metadata": {},
   "outputs": [
    {
     "ename": "ModuleNotFoundError",
     "evalue": "No module named 'saxpy'",
     "output_type": "error",
     "traceback": [
      "\u001b[0;31m---------------------------------------------------------------------------\u001b[0m",
      "\u001b[0;31mModuleNotFoundError\u001b[0m                       Traceback (most recent call last)",
      "\u001b[0;32m<ipython-input-23-f87a1befe57c>\u001b[0m in \u001b[0;36m<module>\u001b[0;34m()\u001b[0m\n\u001b[0;32m----> 1\u001b[0;31m \u001b[0;32mfrom\u001b[0m \u001b[0msaxpy\u001b[0m \u001b[0;32mimport\u001b[0m \u001b[0mpaa\u001b[0m\u001b[0;34m\u001b[0m\u001b[0m\n\u001b[0m",
      "\u001b[0;31mModuleNotFoundError\u001b[0m: No module named 'saxpy'"
     ]
    }
   ],
   "source": [
    "from saxpy import paa"
   ]
  },
  {
   "cell_type": "code",
   "execution_count": 24,
   "metadata": {
    "collapsed": true
   },
   "outputs": [],
   "source": [
    "import numpy as np\n",
    "def paa(series, paa_segments):\n",
    "    \"\"\"PAA implementation.\"\"\"\n",
    "    series_len = len(series)\n",
    "\n",
    "    # check for the trivial case\n",
    "    if (series_len == paa_segments):\n",
    "        return np.copy(series)\n",
    "    else:\n",
    "        res = np.zeros(paa_segments)\n",
    "        if (series_len % paa_segments == 0):\n",
    "            inc = series_len // paa_segments\n",
    "            for i in range(0, series_len):\n",
    "                idx = i // inc\n",
    "                res[idx] = res[idx] + series[i]\n",
    "            return res / inc\n",
    "        else:\n",
    "            for i in range(0, paa_segments * series_len):\n",
    "                idx = i // series_len\n",
    "                pos = i // paa_segments\n",
    "                res[idx] = res[idx] + series[pos]\n",
    "            return res / series_len"
   ]
  },
  {
   "cell_type": "code",
   "execution_count": 11,
   "metadata": {},
   "outputs": [],
   "source": [
    "ts = np.array([1, 1, 2, 2, 3, 3])"
   ]
  },
  {
   "cell_type": "code",
   "execution_count": 12,
   "metadata": {},
   "outputs": [
    {
     "data": {
      "text/plain": [
       "array([1, 1, 2, 2, 3, 3])"
      ]
     },
     "execution_count": 12,
     "metadata": {},
     "output_type": "execute_result"
    }
   ],
   "source": [
    "paa(ts, 6)"
   ]
  },
  {
   "cell_type": "code",
   "execution_count": 13,
   "metadata": {},
   "outputs": [
    {
     "data": {
      "text/plain": [
       "array([ 1.,  2.,  3.])"
      ]
     },
     "execution_count": 13,
     "metadata": {},
     "output_type": "execute_result"
    }
   ],
   "source": [
    "paa(ts, 3)"
   ]
  },
  {
   "cell_type": "code",
   "execution_count": 20,
   "metadata": {},
   "outputs": [
    {
     "data": {
      "text/plain": [
       "array([ 1.        ,  1.33333333,  1.66666667,  2.33333333,  2.66666667,  3.        ])"
      ]
     },
     "execution_count": 20,
     "metadata": {},
     "output_type": "execute_result"
    }
   ],
   "source": [
    "paa(paa(ts, 4), 6)"
   ]
  },
  {
   "cell_type": "code",
   "execution_count": 25,
   "metadata": {},
   "outputs": [
    {
     "data": {
      "text/plain": [
       "array([-0.94054407, -0.69562387,  1.1463276 ,  1.638693  ,  0.90645757,\n",
       "        0.48984043, -0.16033437, -0.16033437, -1.00114287, -1.22333867])"
      ]
     },
     "execution_count": 25,
     "metadata": {},
     "output_type": "execute_result"
    }
   ],
   "source": [
    "dat = np.array([-0.9796808, -0.8622706, -0.6123005, 0.8496459, 1.739691,\n",
    "                    1.588194, 1.095829, 0.5277147, 0.4709033, -0.2865819,\n",
    "                    0.0921607, -0.2865819, -0.9039323, -1.195564, -1.237226])\n",
    "\n",
    "paa(dat, 10)"
   ]
  },
  {
   "cell_type": "code",
   "execution_count": 26,
   "metadata": {},
   "outputs": [
    {
     "data": {
      "text/plain": [
       "array([ -3.33333332e-08,  -3.33333333e-08,   4.00000000e-07,\n",
       "        -4.44089210e-16,  -2.66666667e-07,  -3.33333331e-08,\n",
       "        -3.33333333e-08,  -3.33333333e-08,  -1.33333333e-07,\n",
       "        -3.33333333e-07])"
      ]
     },
     "execution_count": 26,
     "metadata": {},
     "output_type": "execute_result"
    }
   ],
   "source": [
    "dat_paa = np.array([-0.9405441, -0.6956239, 1.146328, 1.638693, 0.9064573,\n",
    "                        0.4898404, -0.1603344, -0.1603344, -1.001143,\n",
    "                        -1.223339])\n",
    "dat_paa - paa(dat, 10)"
   ]
  },
  {
   "cell_type": "code",
   "execution_count": null,
   "metadata": {
    "collapsed": true
   },
   "outputs": [],
   "source": []
  },
  {
   "cell_type": "code",
   "execution_count": null,
   "metadata": {
    "collapsed": true
   },
   "outputs": [],
   "source": []
  },
  {
   "cell_type": "code",
   "execution_count": null,
   "metadata": {
    "collapsed": true
   },
   "outputs": [],
   "source": []
  },
  {
   "cell_type": "code",
   "execution_count": null,
   "metadata": {
    "collapsed": true
   },
   "outputs": [],
   "source": []
  },
  {
   "cell_type": "code",
   "execution_count": 8,
   "metadata": {},
   "outputs": [
    {
     "data": {
      "text/plain": [
       "'/home/psenin/git/saxpy/jupyter'"
      ]
     },
     "execution_count": 8,
     "metadata": {},
     "output_type": "execute_result"
    }
   ],
   "source": [
    "os.getcwd()"
   ]
  },
  {
   "cell_type": "code",
   "execution_count": 2,
   "metadata": {},
   "outputs": [
    {
     "data": {
      "text/plain": [
       "['',\n",
       " '/home/psenin/anaconda3/lib/python36.zip',\n",
       " '/home/psenin/anaconda3/lib/python3.6',\n",
       " '/home/psenin/anaconda3/lib/python3.6/lib-dynload',\n",
       " '/home/psenin/anaconda3/lib/python3.6/site-packages',\n",
       " '/home/psenin/anaconda3/lib/python3.6/site-packages/IPython/extensions',\n",
       " '/home/psenin/.ipython',\n",
       " '..']"
      ]
     },
     "execution_count": 2,
     "metadata": {},
     "output_type": "execute_result"
    }
   ],
   "source": [
    "sys.path"
   ]
  }
 ],
 "metadata": {
  "kernelspec": {
   "display_name": "Python 3",
   "language": "python",
   "name": "python3"
  },
  "language_info": {
   "codemirror_mode": {
    "name": "ipython",
    "version": 3
   },
   "file_extension": ".py",
   "mimetype": "text/x-python",
   "name": "python",
   "nbconvert_exporter": "python",
   "pygments_lexer": "ipython3",
   "version": "3.6.3"
  }
 },
 "nbformat": 4,
 "nbformat_minor": 2
}
